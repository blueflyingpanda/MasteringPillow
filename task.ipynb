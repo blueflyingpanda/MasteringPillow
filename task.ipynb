{
 "cells": [
  {
   "cell_type": "markdown",
   "metadata": {},
   "source": [
    "# Задание 1. Перевести картинку по своему выбору в ЧБ"
   ]
  },
  {
   "cell_type": "code",
   "execution_count": null,
   "metadata": {},
   "outputs": [],
   "source": [
    "from PIL import Image\n",
    "# Open the image file\n",
    "image_path = \"moulinette.jpg\"  # Replace with the actual path to your image\n",
    "image = Image.open(image_path)\n",
    "\n",
    "# Convert the image to black and white\n",
    "bw_image = image.convert(\"L\")\n",
    "\n",
    "# Save the black and white image\n",
    "bw_image.save(\"bw_moulinette.jpg\")  # Replace with the desired path and filename"
   ]
  },
  {
   "cell_type": "markdown",
   "metadata": {},
   "source": [
    "# Задание 2. для картинок 1-9.png примените следующие трансформации:\n",
    "\n",
    "Переверните картинки\n",
    "\n",
    "Уменьшите размер в два раза\n",
    "\n",
    "Переведите в ЧБ"
   ]
  }
 ],
 "metadata": {
  "kernelspec": {
   "display_name": "venv",
   "language": "python",
   "name": "python3"
  },
  "language_info": {
   "codemirror_mode": {
    "name": "ipython",
    "version": 3
   },
   "file_extension": ".py",
   "mimetype": "text/x-python",
   "name": "python",
   "nbconvert_exporter": "python",
   "pygments_lexer": "ipython3",
   "version": "3.11.1"
  }
 },
 "nbformat": 4,
 "nbformat_minor": 2
}
