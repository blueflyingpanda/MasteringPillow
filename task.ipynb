{
 "cells": [
  {
   "cell_type": "markdown",
   "metadata": {},
   "source": [
    "# Задание 1. Перевести картинку по своему выбору в ЧБ"
   ]
  },
  {
   "cell_type": "code",
   "execution_count": null,
   "metadata": {},
   "outputs": [],
   "source": [
    "from PIL import Image\n",
    "# Open the image file\n",
    "image_path = \"moulinette.jpg\"  # Replace with the actual path to your image\n",
    "image = Image.open(image_path)\n",
    "\n",
    "# Convert the image to black and white\n",
    "bw_image = image.convert(\"L\")\n",
    "\n",
    "# Save the black and white image\n",
    "bw_image.save(\"bw_moulinette.jpg\")  # Replace with the desired path and filename"
   ]
  },
  {
   "cell_type": "markdown",
   "metadata": {},
   "source": [
    "# Задание 2. для картинок 1-9.png примените следующие трансформации:\n",
    "\n",
    "Переверните картинки\n",
    "\n",
    "Уменьшите размер в два раза\n",
    "\n",
    "Переведите в ЧБ"
   ]
  },
  {
   "cell_type": "code",
   "execution_count": 5,
   "metadata": {},
   "outputs": [],
   "source": [
    "from PIL import Image\n",
    "\n",
    "for i in range(9,10):\n",
    "    image = Image.open(f'{i}.png')\n",
    "    width, height = image.size\n",
    "    converted = image.convert(\"L\").rotate(180).resize((width // 2, height // 2))\n",
    "    converted.save(f'0{i}.png')"
   ]
  }
 ],
 "metadata": {
  "kernelspec": {
   "display_name": "venv",
   "language": "python",
   "name": "python3"
  },
  "language_info": {
   "codemirror_mode": {
    "name": "ipython",
    "version": 3
   },
   "file_extension": ".py",
   "mimetype": "text/x-python",
   "name": "python",
   "nbconvert_exporter": "python",
   "pygments_lexer": "ipython3",
   "version": "3.11.1"
  }
 },
 "nbformat": 4,
 "nbformat_minor": 2
}
